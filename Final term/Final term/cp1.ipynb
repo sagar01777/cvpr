{
 "cells": [
  {
   "cell_type": "code",
   "execution_count": 10,
   "id": "908f3189",
   "metadata": {},
   "outputs": [],
   "source": [
    "import tensorflow as tf\n",
    "from tensorflow import keras\n",
    "from tensorflow.keras import layers\n",
    "from tensorflow.keras.datasets import mnist\n"
   ]
  },
  {
   "cell_type": "code",
   "execution_count": 11,
   "id": "0d3aa738",
   "metadata": {},
   "outputs": [],
   "source": [
    "(x_train, y_train), (x_test, y_test) = mnist.load_data()\n",
    "x_train = x_train.reshape(-1, 28, 28, 1).astype(\"float32\") / 255.0\n",
    "x_test = x_test.reshape(-1, 28, 28, 1).astype(\"float32\") / 255.0\n"
   ]
  },
  {
   "cell_type": "code",
   "execution_count": 12,
   "id": "e3609c34",
   "metadata": {},
   "outputs": [],
   "source": [
    "model = keras.Sequential(\n",
    "    [\n",
    "        layers.Conv2D(32, kernel_size=(3, 3), activation=\"relu\", input_shape=(28, 28, 1)),\n",
    "        layers.MaxPooling2D(pool_size=(2, 2)),\n",
    "        layers.Conv2D(64, kernel_size=(3, 3), activation=\"relu\"),\n",
    "        layers.MaxPooling2D(pool_size=(2, 2)),\n",
    "        layers.Flatten(),\n",
    "        layers.Dropout(0.5),\n",
    "        layers.Dense(10, activation=\"softmax\"),\n",
    "    ]\n",
    ")\n"
   ]
  },
  {
   "cell_type": "code",
   "execution_count": 13,
   "id": "674e4181",
   "metadata": {},
   "outputs": [],
   "source": [
    "model.compile(optimizer=\"sgd\", loss=\"categorical_crossentropy\", metrics=[\"accuracy\"])\n"
   ]
  },
  {
   "cell_type": "code",
   "execution_count": 14,
   "id": "18d3c0e6",
   "metadata": {},
   "outputs": [
    {
     "name": "stdout",
     "output_type": "stream",
     "text": [
      "Epoch 1/10\n",
      "422/422 [==============================] - 13s 28ms/step - loss: 1.7575 - accuracy: 0.4317 - val_loss: 0.6103 - val_accuracy: 0.8707\n",
      "Epoch 2/10\n",
      "422/422 [==============================] - 12s 28ms/step - loss: 0.6340 - accuracy: 0.8009 - val_loss: 0.2882 - val_accuracy: 0.9273\n",
      "Epoch 3/10\n",
      "422/422 [==============================] - 12s 29ms/step - loss: 0.4085 - accuracy: 0.8765 - val_loss: 0.2067 - val_accuracy: 0.9452\n",
      "Epoch 4/10\n",
      "422/422 [==============================] - 12s 28ms/step - loss: 0.3143 - accuracy: 0.9053 - val_loss: 0.1669 - val_accuracy: 0.9550\n",
      "Epoch 5/10\n",
      "422/422 [==============================] - 11s 26ms/step - loss: 0.2635 - accuracy: 0.9214 - val_loss: 0.1437 - val_accuracy: 0.9613\n",
      "Epoch 6/10\n",
      "422/422 [==============================] - 13s 30ms/step - loss: 0.2339 - accuracy: 0.9300 - val_loss: 0.1292 - val_accuracy: 0.9648\n",
      "Epoch 7/10\n",
      "422/422 [==============================] - 12s 29ms/step - loss: 0.2116 - accuracy: 0.9371 - val_loss: 0.1194 - val_accuracy: 0.9675\n",
      "Epoch 8/10\n",
      "422/422 [==============================] - 11s 25ms/step - loss: 0.1949 - accuracy: 0.9418 - val_loss: 0.1113 - val_accuracy: 0.9705\n",
      "Epoch 9/10\n",
      "422/422 [==============================] - 10s 25ms/step - loss: 0.1827 - accuracy: 0.9446 - val_loss: 0.1046 - val_accuracy: 0.9722\n",
      "Epoch 10/10\n",
      "422/422 [==============================] - 12s 28ms/step - loss: 0.1720 - accuracy: 0.9480 - val_loss: 0.1012 - val_accuracy: 0.9735\n"
     ]
    },
    {
     "data": {
      "text/plain": [
       "<keras.callbacks.History at 0x22a357d50a0>"
      ]
     },
     "execution_count": 14,
     "metadata": {},
     "output_type": "execute_result"
    }
   ],
   "source": [
    "tensorboard_callback = keras.callbacks.TensorBoard(log_dir=\"./logs/sgd\")\n",
    "model.fit(x_train, keras.utils.to_categorical(y_train), batch_size=128, epochs=10, validation_split=0.1, callbacks=[tensorboard_callback])\n"
   ]
  },
  {
   "cell_type": "code",
   "execution_count": 15,
   "id": "fee40493",
   "metadata": {},
   "outputs": [
    {
     "name": "stdout",
     "output_type": "stream",
     "text": [
      "Epoch 1/10\n",
      "422/422 [==============================] - 12s 26ms/step - loss: 0.1361 - accuracy: 0.9581 - val_loss: 0.0647 - val_accuracy: 0.9822\n",
      "Epoch 2/10\n",
      "422/422 [==============================] - 12s 28ms/step - loss: 0.0931 - accuracy: 0.9709 - val_loss: 0.0526 - val_accuracy: 0.9855\n",
      "Epoch 3/10\n",
      "422/422 [==============================] - 10s 24ms/step - loss: 0.0743 - accuracy: 0.9775 - val_loss: 0.0422 - val_accuracy: 0.9872\n",
      "Epoch 4/10\n",
      "422/422 [==============================] - 11s 26ms/step - loss: 0.0626 - accuracy: 0.9805 - val_loss: 0.0393 - val_accuracy: 0.9898\n",
      "Epoch 5/10\n",
      "422/422 [==============================] - 12s 28ms/step - loss: 0.0543 - accuracy: 0.9835 - val_loss: 0.0381 - val_accuracy: 0.9898\n",
      "Epoch 6/10\n",
      "422/422 [==============================] - 11s 25ms/step - loss: 0.0524 - accuracy: 0.9839 - val_loss: 0.0327 - val_accuracy: 0.9903\n",
      "Epoch 7/10\n",
      "422/422 [==============================] - 11s 25ms/step - loss: 0.0463 - accuracy: 0.9852 - val_loss: 0.0343 - val_accuracy: 0.9907\n",
      "Epoch 8/10\n",
      "422/422 [==============================] - 11s 25ms/step - loss: 0.0453 - accuracy: 0.9857 - val_loss: 0.0328 - val_accuracy: 0.9917\n",
      "Epoch 9/10\n",
      "422/422 [==============================] - 11s 27ms/step - loss: 0.0423 - accuracy: 0.9870 - val_loss: 0.0339 - val_accuracy: 0.9910\n",
      "Epoch 10/10\n",
      "422/422 [==============================] - 11s 26ms/step - loss: 0.0398 - accuracy: 0.9872 - val_loss: 0.0325 - val_accuracy: 0.9913\n"
     ]
    },
    {
     "data": {
      "text/plain": [
       "<keras.callbacks.History at 0x22a35cb1070>"
      ]
     },
     "execution_count": 15,
     "metadata": {},
     "output_type": "execute_result"
    }
   ],
   "source": [
    "model.compile(optimizer=\"adam\", loss=\"categorical_crossentropy\", metrics=[\"accuracy\"])\n",
    "tensorboard_callback = keras.callbacks.TensorBoard(log_dir=\"./logs/adam\")\n",
    "model.fit(x_train, keras.utils.to_categorical(y_train), batch_size=128, epochs=10, validation_split=0.1, callbacks=[tensorboard_callback])\n"
   ]
  },
  {
   "cell_type": "code",
   "execution_count": 16,
   "id": "dba2e204",
   "metadata": {},
   "outputs": [
    {
     "name": "stdout",
     "output_type": "stream",
     "text": [
      "Epoch 1/10\n",
      "422/422 [==============================] - 11s 25ms/step - loss: 0.0388 - accuracy: 0.9881 - val_loss: 0.0354 - val_accuracy: 0.9905\n",
      "Epoch 2/10\n",
      "422/422 [==============================] - 10s 25ms/step - loss: 0.0368 - accuracy: 0.9881 - val_loss: 0.0336 - val_accuracy: 0.9917\n",
      "Epoch 3/10\n",
      "422/422 [==============================] - 11s 25ms/step - loss: 0.0343 - accuracy: 0.9890 - val_loss: 0.0332 - val_accuracy: 0.9915\n",
      "Epoch 4/10\n",
      "422/422 [==============================] - 10s 25ms/step - loss: 0.0338 - accuracy: 0.9892 - val_loss: 0.0350 - val_accuracy: 0.9913\n",
      "Epoch 5/10\n",
      "422/422 [==============================] - 12s 27ms/step - loss: 0.0326 - accuracy: 0.9896 - val_loss: 0.0354 - val_accuracy: 0.9925\n",
      "Epoch 6/10\n",
      "422/422 [==============================] - 12s 28ms/step - loss: 0.0327 - accuracy: 0.9896 - val_loss: 0.0312 - val_accuracy: 0.9920\n",
      "Epoch 7/10\n",
      "422/422 [==============================] - 14s 34ms/step - loss: 0.0319 - accuracy: 0.9900 - val_loss: 0.0311 - val_accuracy: 0.9913\n",
      "Epoch 8/10\n",
      "422/422 [==============================] - 11s 26ms/step - loss: 0.0321 - accuracy: 0.9901 - val_loss: 0.0318 - val_accuracy: 0.9927\n",
      "Epoch 9/10\n",
      "422/422 [==============================] - 11s 27ms/step - loss: 0.0291 - accuracy: 0.9907 - val_loss: 0.0335 - val_accuracy: 0.9912\n",
      "Epoch 10/10\n",
      "422/422 [==============================] - 11s 26ms/step - loss: 0.0303 - accuracy: 0.9904 - val_loss: 0.0305 - val_accuracy: 0.9922\n"
     ]
    },
    {
     "data": {
      "text/plain": [
       "<keras.callbacks.History at 0x22a34e9abe0>"
      ]
     },
     "execution_count": 16,
     "metadata": {},
     "output_type": "execute_result"
    }
   ],
   "source": [
    "model.compile(optimizer=\"rmsprop\", loss=\"categorical_crossentropy\", metrics=[\"accuracy\"])\n",
    "tensorboard_callback = keras.callbacks.TensorBoard(log_dir=\"./logs/rmsprop\")\n",
    "model.fit(x_train, keras.utils.to_categorical(y_train), batch_size=128, epochs=10, validation_split=0.1, callbacks=[tensorboard_callback])\n"
   ]
  },
  {
   "cell_type": "code",
   "execution_count": 17,
   "id": "cdf65ae6",
   "metadata": {},
   "outputs": [
    {
     "ename": "NameError",
     "evalue": "name 'sgd_results' is not defined",
     "output_type": "error",
     "traceback": [
      "\u001b[1;31m---------------------------------------------------------------------------\u001b[0m",
      "\u001b[1;31mNameError\u001b[0m                                 Traceback (most recent call last)",
      "Cell \u001b[1;32mIn[17], line 1\u001b[0m\n\u001b[1;32m----> 1\u001b[0m \u001b[43msgd_results\u001b[49m\n",
      "\u001b[1;31mNameError\u001b[0m: name 'sgd_results' is not defined"
     ]
    }
   ],
   "source": [
    "sgd_results\n"
   ]
  },
  {
   "cell_type": "code",
   "execution_count": null,
   "id": "23865b48",
   "metadata": {},
   "outputs": [],
   "source": []
  }
 ],
 "metadata": {
  "kernelspec": {
   "display_name": "Python 3 (ipykernel)",
   "language": "python",
   "name": "python3"
  },
  "language_info": {
   "codemirror_mode": {
    "name": "ipython",
    "version": 3
   },
   "file_extension": ".py",
   "mimetype": "text/x-python",
   "name": "python",
   "nbconvert_exporter": "python",
   "pygments_lexer": "ipython3",
   "version": "3.9.16"
  }
 },
 "nbformat": 4,
 "nbformat_minor": 5
}
